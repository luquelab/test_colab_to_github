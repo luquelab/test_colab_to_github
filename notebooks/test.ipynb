{
  "nbformat": 4,
  "nbformat_minor": 0,
  "metadata": {
    "colab": {
      "provenance": [],
      "authorship_tag": "ABX9TyMXEi1LJQ19U0jCkJ2RF0O3",
      "include_colab_link": true
    },
    "kernelspec": {
      "name": "python3",
      "display_name": "Python 3"
    },
    "language_info": {
      "name": "python"
    }
  },
  "cells": [
    {
      "cell_type": "markdown",
      "metadata": {
        "id": "view-in-github",
        "colab_type": "text"
      },
      "source": [
        "<a href=\"https://colab.research.google.com/github/luquelab/test_colab_to_github/blob/connect_to_colab/notebooks/test.ipynb\" target=\"_parent\"><img src=\"https://colab.research.google.com/assets/colab-badge.svg\" alt=\"Open In Colab\"/></a>"
      ]
    },
    {
      "cell_type": "markdown",
      "source": [
        "# Description\n",
        "\n",
        "This is a test notebook. Here is more text in the description. It still not completed but I want to commit."
      ],
      "metadata": {
        "id": "baiE7hOEtO5I"
      }
    },
    {
      "cell_type": "markdown",
      "source": [
        "# Quick-start guide\n",
        "\n",
        "Here I will give instructions to the user on how to use the notebook."
      ],
      "metadata": {
        "id": "2nGu7342uFs7"
      }
    },
    {
      "cell_type": "code",
      "execution_count": null,
      "metadata": {
        "id": "xE6FJbOMtMtq"
      },
      "outputs": [],
      "source": []
    }
  ]
}
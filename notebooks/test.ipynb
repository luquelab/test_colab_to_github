{
  "nbformat": 4,
  "nbformat_minor": 0,
  "metadata": {
    "colab": {
      "provenance": [],
      "toc_visible": true,
      "authorship_tag": "ABX9TyM7TmxiPkYXJg+XOJS9H401",
      "include_colab_link": true
    },
    "kernelspec": {
      "name": "python3",
      "display_name": "Python 3"
    },
    "language_info": {
      "name": "python"
    }
  },
  "cells": [
    {
      "cell_type": "markdown",
      "metadata": {
        "id": "view-in-github",
        "colab_type": "text"
      },
      "source": [
        "<a href=\"https://colab.research.google.com/github/luquelab/test_colab_to_github/blob/pipeline/notebooks/test.ipynb\" target=\"_parent\"><img src=\"https://colab.research.google.com/assets/colab-badge.svg\" alt=\"Open In Colab\"/></a>"
      ]
    },
    {
      "cell_type": "markdown",
      "source": [
        "# Description\n",
        "\n",
        "This is a test notebook. Here is more text in the description. It still not completed but I want to commit."
      ],
      "metadata": {
        "id": "baiE7hOEtO5I"
      }
    },
    {
      "cell_type": "markdown",
      "source": [
        "# Quick-start guide\n",
        "\n",
        "Here I will give instructions to the user on how to use the notebook."
      ],
      "metadata": {
        "id": "2nGu7342uFs7"
      }
    },
    {
      "cell_type": "markdown",
      "source": [
        "# Bioinformatics pipeline\n",
        "This is where the bioinformatics pipeline starts."
      ],
      "metadata": {
        "id": "h2ZqqR7O3CEl"
      }
    },
    {
      "cell_type": "code",
      "source": [],
      "metadata": {
        "id": "p4903xgv3Bg8"
      },
      "execution_count": null,
      "outputs": []
    },
    {
      "cell_type": "code",
      "execution_count": null,
      "metadata": {
        "id": "xE6FJbOMtMtq"
      },
      "outputs": [],
      "source": []
    }
  ]
}